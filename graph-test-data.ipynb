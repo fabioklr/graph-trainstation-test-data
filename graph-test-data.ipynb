{
 "cells": [
  {
   "cell_type": "code",
   "execution_count": 53,
   "metadata": {},
   "outputs": [],
   "source": [
    "import pandas as pd\n",
    "\n",
    "# Creating the synthetic test legacy data\n",
    "trainstation_legacy1 = {\n",
    "    \"StationID\": [1, 2, 3, 4, 5, 6, 7, 8, 9, 10, 11, 12],\n",
    "    \"StationName\": [\"Gare du Nord\", \"St Pancras\", \"Hauptbahnhof\", \"Centrale\", \"Atocha\", \"Sants\", \"Zurich HB\", \"Amsterdam Centraal\", \"Wien Hauptbahnhof\", \"Gare de Lyon\", \"München Hbf\", \"Antwerp Central\"],\n",
    "    \"Location\": [\"Paris, France\", \"London, UK\", \"Berlin, Germany\", \"Milan, Italy\", \"Madrid, Spain\", \"Barcelona, Spain\", \"Zurich, Switzerland\", \"Amsterdam, Netherlands\", \"Vienna, Austria\", \"Paris, France\", \"Munich, Germany\", \"Antwerp, Belgium\"],\n",
    "    \"Platforms\": [36, 15, 16, 24, 21, 14, 26, 15, 12, 13, 32, 14],\n",
    "    \"OpenedYear\": [1864, 1868, 1871, 1931, 1851, 1975, 1847, 1889, 2012, 1900, 1849, 1905]\n",
    "}\n",
    "\n",
    "trainstation_legacy2 = {\n",
    "    \"ID\": [1, 2, 3, 4, 5, 6, 7, 8, 9, 10, 11, 12],\n",
    "    \"Name\": [\"Gare du Nord\", \"St Pancras\", \"Hauptbahnhof\", \"Centrale\", \"Atocha\", \"Sants\", \"Zurich HB\", \"Amsterdam Centraal\", \"Wien Hauptbahnhof\", \"Gare de Lyon\", \"München Hbf\", \"Antwerp Central\"],\n",
    "    \"City\": [\"Paris\", \"London\", \"Berlin\", \"Milan\", \"Madrid\", \"Barcelona\", \"Zurich\", \"Amsterdam\", \"Vienna\", \"Paris\", \"Munich\", \"Antwerp\"],\n",
    "    \"Country\": [\"France\", \"UK\", \"Germany\", \"Italy\", \"Spain\", \"Spain\", \"Switzerland\", \"Netherlands\", \"Austria\", \"France\", \"Germany\", \"Belgium\"],\n",
    "    \"NumberOfPlatforms\": [36, 15, 16, 24, 21, 14, 26, 15, 12, 13, 32, 14],\n",
    "    \"YearOpened\": [1864, 1868, 1871, 1931, 1851, 1975, 1847, 1889, 2012, 1900, 1849, 1905]\n",
    "}\n",
    "\n",
    "trainstation_legacy3 = {\n",
    "    \"StationCode\": [\"FRPAR\", \"UKLON\", \"DEBER\", \"ITMIL\", \"ESMAD\", \"ESBCN\", \"CHZRH\", \"NLAMS\", \"ATVIE\", \"FRPAR2\", \"DEMUC\", \"BEBRU\"],\n",
    "    \"FullName\": [\"GARE DU NORD\", \"ST PANCRAS\", \"HAUPTBAHNHOF\", \"CENTRALE\", \"ATOCHA\", \"SANTS\", \"ZURICH HB\", \"AMSTERDAM CENTRAAL\", \"WIEN HAUPTBAHNHOF\", \"GARE DE LYON\", \"MÜNCHEN HBF\", \"ANTWERP CENTRAL\"],\n",
    "    \"Address\": [\"PARIS, FRANCE\", \"LONDON, UK\", \"BERLIN, GERMANY\", \"MILAN, ITALY\", \"MADRID, SPAIN\", \"BARCELONA, SPAIN\", \"ZURICH, SWITZERLAND\", \"AMSTERDAM, NETHERLANDS\", \"VIENNA, AUSTRIA\", \"PARIS, FRANCE\", \"MUNICH, GERMANY\", \"ANTWERP, BELGIUM\"],\n",
    "    \"PlatformsCount\": ['36', '15', '16', '24', '21', '14', '26', '15', '12', '13', '32', '14'],\n",
    "    \"Established\": ['1864', '1868', '1871', '1931', '1851', '1975', '1847', '1889', '2012', '1900', '1849', '1905']\n",
    "}\n",
    "\n",
    "# Creating the synthetic test fachdatenmodell\n",
    "trainstation_fachdatenmodell = ['ID', 'StationName', 'City', 'Country', 'Platforms', 'OpenedYear']\n"
   ]
  },
  {
   "cell_type": "code",
   "execution_count": 55,
   "metadata": {},
   "outputs": [],
   "source": [
    "from langchain_core.documents import Document\n",
    "\n",
    "documents = [Document(page_content=str(legacy_data)) for legacy_data in [trainstation_legacy1, trainstation_legacy2, trainstation_legacy3]]"
   ]
  },
  {
   "cell_type": "code",
   "execution_count": 69,
   "metadata": {},
   "outputs": [],
   "source": [
    "from langchain_experimental.graph_transformers import LLMGraphTransformer\n",
    "from langchain_openai import ChatOpenAI\n",
    "from langchain_core.prompts import ChatPromptTemplate\n",
    "from dotenv import load_dotenv\n",
    "\n",
    "load_dotenv()\n",
    "\n",
    "instruction = \"\"\"\n",
    "You are an expert in train data. You have been given three legacy datasets that contain information about train stations.\n",
    "You are to create a knowledge graph based on allowed nodes and the legacy data. Keep as much information as possible from the legacy data.\n",
    "Create a node for each train station, country and city. Give the train station properties such as name, platforms andd year opened to store more info.\n",
    "\"\"\"\n",
    "prompt = ChatPromptTemplate.from_template(instruction)\n",
    "\n",
    "# Instantiate the transformer with the LLM model\n",
    "llm = ChatOpenAI(temperature=0, model_name=\"gpt-4o\")\n",
    "llm_transformer = LLMGraphTransformer(\n",
    "    llm=llm,\n",
    "    allowed_nodes=trainstation_fachdatenmodell,\n",
    "    allowed_relationships=[\"is_in\", \"has\", \"opened_in\"],\n",
    "    strict_mode=True,\n",
    "    )"
   ]
  },
  {
   "cell_type": "code",
   "execution_count": null,
   "metadata": {},
   "outputs": [],
   "source": [
    "graph_documents = llm_transformer.convert_to_graph_documents(documents)\n",
    "print(f\"Nodes:{graph_documents[0].nodes}\")\n",
    "print(f\"Relationships:{graph_documents[0].relationships}\")"
   ]
  },
  {
   "cell_type": "code",
   "execution_count": 71,
   "metadata": {},
   "outputs": [],
   "source": [
    "from langchain_community.graphs import Neo4jGraph\n",
    "\n",
    "load_dotenv()\n",
    "\n",
    "graph = Neo4jGraph()\n",
    "\n",
    "graph.add_graph_documents(graph_documents)"
   ]
  }
 ],
 "metadata": {
  "kernelspec": {
   "display_name": "Python 3",
   "language": "python",
   "name": "python3"
  },
  "language_info": {
   "codemirror_mode": {
    "name": "ipython",
    "version": 3
   },
   "file_extension": ".py",
   "mimetype": "text/x-python",
   "name": "python",
   "nbconvert_exporter": "python",
   "pygments_lexer": "ipython3",
   "version": "3.10.12"
  }
 },
 "nbformat": 4,
 "nbformat_minor": 2
}
